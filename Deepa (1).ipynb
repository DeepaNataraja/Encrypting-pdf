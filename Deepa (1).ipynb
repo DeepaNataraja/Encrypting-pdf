{
 "cells": [
  {
   "cell_type": "code",
   "execution_count": 2,
   "id": "e0e4a328",
   "metadata": {},
   "outputs": [
    {
     "name": "stdout",
     "output_type": "stream",
     "text": [
      "['one.pdf', 'two.pdf']\n",
      "one.pdf\n",
      "22_04_05_11_11_28\n",
      "<class 'str'>\n",
      "two.pdf\n",
      "22_04_05_11_11_30\n",
      "<class 'str'>\n"
     ]
    }
   ],
   "source": [
    "import PyPDF2\n",
    "import tkinter\n",
    "from tkinter import filedialog\n",
    "import os\n",
    "import sqlite3 as sql\n",
    "\n",
    "def my_db_ex(db,file_name,password,current_time):\n",
    "    try:\n",
    "            db_connection = sql.connect(db)\n",
    "            create_table = \"\"\"CREATE TABLE IF NOT EXISTS pdf_info (\"F_name\" text, \"F_password\" text, \"date_encryption\" text)\"\"\"\n",
    "            db_connection.execute(create_table)\n",
    "            insert_query = f\"\"\"INSERT INTO pdf_info(\"F_name\", \"F_password\", \"date_encryption\") values (\"{file_name}\",'{password}',\"{current_time}\")\"\"\"\n",
    "            db_connection.execute(insert_query)\n",
    "    except Exception as ex:\n",
    "        print (ex)\n",
    "    finally:\n",
    "        db_connection.commit()\n",
    "        db_connection.close()     \n",
    "folder_list = os.listdir(r\"C:\\Users\\deepa.natarajan\\Sample6\") \n",
    "print(folder_list)\n",
    "try:\n",
    "    for files in folder_list:\n",
    "        if files.endswith('.pdf'): \n",
    "            print(files)\n",
    "            file_path = os.path.join(r\"C:\\Users\\deepa.natarajan\\Sample6\",files)\n",
    "            pdf_in_file = open(file_path, 'rb') \n",
    "            inputpdf = PyPDF2.PdfFileReader(pdf_in_file)\n",
    "            if not inputpdf.isEncrypted:\n",
    "                page_no = inputpdf.numPages\n",
    "                output = PyPDF2.PdfFileWriter()\n",
    "                for i in range(page_no):   \n",
    "                    inputpdf = PyPDF2.PdfFileReader(pdf_in_file)\n",
    "                    from datetime import datetime\n",
    "                    current_time = datetime.now().replace(microsecond = 0)\n",
    "                    current_time = datetime.strftime(current_time,\"%y_%m_%d_%H_%M_%S\") \n",
    "                    print(current_time)\n",
    "                    print(type(current_time))\n",
    "                    output.addPage(inputpdf.getPage(i))\n",
    "                    output.encrypt(files[:-4] + current_time) \n",
    "                \n",
    "                    output_file_name = \"enc_pdf\" + files[:-4] + current_time + \".pdf\"\n",
    "                    output_file_path = os.path.join(r\"C:\\Users\\deepa.natarajan\\Sample6\",output_file_name) \n",
    "                with open(output_file_path, \"wb\") as outputStream: \n",
    "                    output.write(outputStream)\n",
    "                with open(r\"C:\\Users\\deepa.natarajan\\Sample6\\Password.txt\",\"a\") as file_obj: \n",
    "                    file_obj.write(files)\n",
    "                    password = files[:-4] + current_time\n",
    "                    file_obj.write(password)\n",
    "                    file_obj.write(\"\\n___________________________________________\\n\")\n",
    "                    \n",
    "                my_db_ex('pdf.db',files[:-4],password,current_time)   \n",
    "                    \n",
    "        \n",
    "except exception as ex:\n",
    "    print (ex)\n",
    "finally:\n",
    "    pdf_in_file.close()"
   ]
  },
  {
   "cell_type": "code",
   "execution_count": null,
   "id": "8860f95d",
   "metadata": {},
   "outputs": [],
   "source": []
  }
 ],
 "metadata": {
  "kernelspec": {
   "display_name": "Python 3 (ipykernel)",
   "language": "python",
   "name": "python3"
  },
  "language_info": {
   "codemirror_mode": {
    "name": "ipython",
    "version": 3
   },
   "file_extension": ".py",
   "mimetype": "text/x-python",
   "name": "python",
   "nbconvert_exporter": "python",
   "pygments_lexer": "ipython3",
   "version": "3.9.7"
  }
 },
 "nbformat": 4,
 "nbformat_minor": 5
}
